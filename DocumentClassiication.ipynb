{
 "cells": [
  {
   "cell_type": "code",
   "execution_count": 25,
   "id": "87385857-507f-486b-8303-a9823df92010",
   "metadata": {},
   "outputs": [],
   "source": [
    "import pandas as pd\n",
    "import re\n",
    "import nltk\n",
    "from nltk.corpus import stopwords\n",
    "from nltk.stem import PorterStemmer"
   ]
  },
  {
   "cell_type": "code",
   "execution_count": 26,
   "id": "f914d475-4ac1-47a0-b07b-05a371d43899",
   "metadata": {},
   "outputs": [
    {
     "data": {
      "text/html": [
       "<div>\n",
       "<style scoped>\n",
       "    .dataframe tbody tr th:only-of-type {\n",
       "        vertical-align: middle;\n",
       "    }\n",
       "\n",
       "    .dataframe tbody tr th {\n",
       "        vertical-align: top;\n",
       "    }\n",
       "\n",
       "    .dataframe thead th {\n",
       "        text-align: right;\n",
       "    }\n",
       "</style>\n",
       "<table border=\"1\" class=\"dataframe\">\n",
       "  <thead>\n",
       "    <tr style=\"text-align: right;\">\n",
       "      <th></th>\n",
       "      <th>text</th>\n",
       "      <th>label</th>\n",
       "      <th>word_count</th>\n",
       "    </tr>\n",
       "  </thead>\n",
       "  <tbody>\n",
       "    <tr>\n",
       "      <th>0</th>\n",
       "      <td>order id  10718 shipping details  ship name  k...</td>\n",
       "      <td>ShippingOrder</td>\n",
       "      <td>120</td>\n",
       "    </tr>\n",
       "    <tr>\n",
       "      <th>1</th>\n",
       "      <td>invoice order id  10707 customer id  arout ord...</td>\n",
       "      <td>invoice</td>\n",
       "      <td>66</td>\n",
       "    </tr>\n",
       "    <tr>\n",
       "      <th>2</th>\n",
       "      <td>order id  10448 shipping details  ship name  r...</td>\n",
       "      <td>ShippingOrder</td>\n",
       "      <td>96</td>\n",
       "    </tr>\n",
       "    <tr>\n",
       "      <th>3</th>\n",
       "      <td>invoice order id  11068 customer id  queen ord...</td>\n",
       "      <td>invoice</td>\n",
       "      <td>68</td>\n",
       "    </tr>\n",
       "    <tr>\n",
       "      <th>4</th>\n",
       "      <td>order id  10656 shipping details  ship name  g...</td>\n",
       "      <td>ShippingOrder</td>\n",
       "      <td>109</td>\n",
       "    </tr>\n",
       "    <tr>\n",
       "      <th>...</th>\n",
       "      <td>...</td>\n",
       "      <td>...</td>\n",
       "      <td>...</td>\n",
       "    </tr>\n",
       "    <tr>\n",
       "      <th>2671</th>\n",
       "      <td>order id  10326 shipping details  ship name  b...</td>\n",
       "      <td>ShippingOrder</td>\n",
       "      <td>111</td>\n",
       "    </tr>\n",
       "    <tr>\n",
       "      <th>2672</th>\n",
       "      <td>purchase orders order id order date customer n...</td>\n",
       "      <td>purchase Order</td>\n",
       "      <td>39</td>\n",
       "    </tr>\n",
       "    <tr>\n",
       "      <th>2673</th>\n",
       "      <td>invoice order id  10460 customer id  folko ord...</td>\n",
       "      <td>invoice</td>\n",
       "      <td>59</td>\n",
       "    </tr>\n",
       "    <tr>\n",
       "      <th>2674</th>\n",
       "      <td>stock report for 2018-01 category   meat poult...</td>\n",
       "      <td>report</td>\n",
       "      <td>46</td>\n",
       "    </tr>\n",
       "    <tr>\n",
       "      <th>2675</th>\n",
       "      <td>purchase orders order id order date customer n...</td>\n",
       "      <td>purchase Order</td>\n",
       "      <td>36</td>\n",
       "    </tr>\n",
       "  </tbody>\n",
       "</table>\n",
       "<p>2676 rows × 3 columns</p>\n",
       "</div>"
      ],
      "text/plain": [
       "                                                   text           label  \\\n",
       "0     order id  10718 shipping details  ship name  k...   ShippingOrder   \n",
       "1     invoice order id  10707 customer id  arout ord...         invoice   \n",
       "2     order id  10448 shipping details  ship name  r...   ShippingOrder   \n",
       "3     invoice order id  11068 customer id  queen ord...         invoice   \n",
       "4     order id  10656 shipping details  ship name  g...   ShippingOrder   \n",
       "...                                                 ...             ...   \n",
       "2671  order id  10326 shipping details  ship name  b...   ShippingOrder   \n",
       "2672  purchase orders order id order date customer n...  purchase Order   \n",
       "2673  invoice order id  10460 customer id  folko ord...         invoice   \n",
       "2674  stock report for 2018-01 category   meat poult...          report   \n",
       "2675  purchase orders order id order date customer n...  purchase Order   \n",
       "\n",
       "      word_count  \n",
       "0            120  \n",
       "1             66  \n",
       "2             96  \n",
       "3             68  \n",
       "4            109  \n",
       "...          ...  \n",
       "2671         111  \n",
       "2672          39  \n",
       "2673          59  \n",
       "2674          46  \n",
       "2675          36  \n",
       "\n",
       "[2676 rows x 3 columns]"
      ]
     },
     "execution_count": 26,
     "metadata": {},
     "output_type": "execute_result"
    }
   ],
   "source": [
    "df =  pd.read_csv('company-document-text.csv')\n",
    "df"
   ]
  },
  {
   "cell_type": "code",
   "execution_count": 27,
   "id": "c62f2310-913f-4f1f-9cb9-88c6373654dc",
   "metadata": {},
   "outputs": [
    {
     "name": "stderr",
     "output_type": "stream",
     "text": [
      "[nltk_data] Downloading package stopwords to\n",
      "[nltk_data]     C:\\Users\\user\\AppData\\Roaming\\nltk_data...\n",
      "[nltk_data]   Package stopwords is already up-to-date!\n"
     ]
    }
   ],
   "source": [
    "nltk.download(\"stopwords\")\n",
    "stop_words =  set(stopwords.words(\"english\"))\n",
    "stemmer = PorterStemmer()"
   ]
  },
  {
   "cell_type": "code",
   "execution_count": 28,
   "id": "27987390-1e60-4fcb-aa33-0b2906178210",
   "metadata": {},
   "outputs": [],
   "source": [
    "def clean_text(text):\n",
    "    text = text.lower()\n",
    "    text = re.sub(r\"[^\\w\\s]\", \"\", text)#remove special charactrers\n",
    "    text = re.sub(r\"\\s+\", \" \",text)#remove extra whitespace\n",
    "    text = \" \".join([stemmer.stem(word) for word in text.split() if word not in stop_words])\n",
    "    return text"
   ]
  },
  {
   "cell_type": "code",
   "execution_count": 29,
   "id": "fbd4dff9-8a81-4caa-acdc-f83f29a261ce",
   "metadata": {},
   "outputs": [],
   "source": [
    "df['Cleaned Text'] = df[\"text\"].apply(clean_text)"
   ]
  },
  {
   "cell_type": "code",
   "execution_count": 30,
   "id": "c2b6fd15-e290-4688-bfb8-d4bf688a9045",
   "metadata": {},
   "outputs": [
    {
     "data": {
      "text/html": [
       "<div>\n",
       "<style scoped>\n",
       "    .dataframe tbody tr th:only-of-type {\n",
       "        vertical-align: middle;\n",
       "    }\n",
       "\n",
       "    .dataframe tbody tr th {\n",
       "        vertical-align: top;\n",
       "    }\n",
       "\n",
       "    .dataframe thead th {\n",
       "        text-align: right;\n",
       "    }\n",
       "</style>\n",
       "<table border=\"1\" class=\"dataframe\">\n",
       "  <thead>\n",
       "    <tr style=\"text-align: right;\">\n",
       "      <th></th>\n",
       "      <th>text</th>\n",
       "      <th>label</th>\n",
       "      <th>word_count</th>\n",
       "      <th>Cleaned Text</th>\n",
       "    </tr>\n",
       "  </thead>\n",
       "  <tbody>\n",
       "    <tr>\n",
       "      <th>0</th>\n",
       "      <td>order id  10718 shipping details  ship name  k...</td>\n",
       "      <td>ShippingOrder</td>\n",
       "      <td>120</td>\n",
       "      <td>order id 10718 ship detail ship name königlich...</td>\n",
       "    </tr>\n",
       "    <tr>\n",
       "      <th>1</th>\n",
       "      <td>invoice order id  10707 customer id  arout ord...</td>\n",
       "      <td>invoice</td>\n",
       "      <td>66</td>\n",
       "      <td>invoic order id 10707 custom id arout order da...</td>\n",
       "    </tr>\n",
       "    <tr>\n",
       "      <th>2</th>\n",
       "      <td>order id  10448 shipping details  ship name  r...</td>\n",
       "      <td>ShippingOrder</td>\n",
       "      <td>96</td>\n",
       "      <td>order id 10448 ship detail ship name rancho gr...</td>\n",
       "    </tr>\n",
       "    <tr>\n",
       "      <th>3</th>\n",
       "      <td>invoice order id  11068 customer id  queen ord...</td>\n",
       "      <td>invoice</td>\n",
       "      <td>68</td>\n",
       "      <td>invoic order id 11068 custom id queen order da...</td>\n",
       "    </tr>\n",
       "    <tr>\n",
       "      <th>4</th>\n",
       "      <td>order id  10656 shipping details  ship name  g...</td>\n",
       "      <td>ShippingOrder</td>\n",
       "      <td>109</td>\n",
       "      <td>order id 10656 ship detail ship name great lak...</td>\n",
       "    </tr>\n",
       "    <tr>\n",
       "      <th>...</th>\n",
       "      <td>...</td>\n",
       "      <td>...</td>\n",
       "      <td>...</td>\n",
       "      <td>...</td>\n",
       "    </tr>\n",
       "    <tr>\n",
       "      <th>2671</th>\n",
       "      <td>order id  10326 shipping details  ship name  b...</td>\n",
       "      <td>ShippingOrder</td>\n",
       "      <td>111</td>\n",
       "      <td>order id 10326 ship detail ship name bólido co...</td>\n",
       "    </tr>\n",
       "    <tr>\n",
       "      <th>2672</th>\n",
       "      <td>purchase orders order id order date customer n...</td>\n",
       "      <td>purchase Order</td>\n",
       "      <td>39</td>\n",
       "      <td>purchas order order id order date custom name ...</td>\n",
       "    </tr>\n",
       "    <tr>\n",
       "      <th>2673</th>\n",
       "      <td>invoice order id  10460 customer id  folko ord...</td>\n",
       "      <td>invoice</td>\n",
       "      <td>59</td>\n",
       "      <td>invoic order id 10460 custom id folko order da...</td>\n",
       "    </tr>\n",
       "    <tr>\n",
       "      <th>2674</th>\n",
       "      <td>stock report for 2018-01 category   meat poult...</td>\n",
       "      <td>report</td>\n",
       "      <td>46</td>\n",
       "      <td>stock report 201801 categori meat poultri id c...</td>\n",
       "    </tr>\n",
       "    <tr>\n",
       "      <th>2675</th>\n",
       "      <td>purchase orders order id order date customer n...</td>\n",
       "      <td>purchase Order</td>\n",
       "      <td>36</td>\n",
       "      <td>purchas order order id order date custom name ...</td>\n",
       "    </tr>\n",
       "  </tbody>\n",
       "</table>\n",
       "<p>2676 rows × 4 columns</p>\n",
       "</div>"
      ],
      "text/plain": [
       "                                                   text           label  \\\n",
       "0     order id  10718 shipping details  ship name  k...   ShippingOrder   \n",
       "1     invoice order id  10707 customer id  arout ord...         invoice   \n",
       "2     order id  10448 shipping details  ship name  r...   ShippingOrder   \n",
       "3     invoice order id  11068 customer id  queen ord...         invoice   \n",
       "4     order id  10656 shipping details  ship name  g...   ShippingOrder   \n",
       "...                                                 ...             ...   \n",
       "2671  order id  10326 shipping details  ship name  b...   ShippingOrder   \n",
       "2672  purchase orders order id order date customer n...  purchase Order   \n",
       "2673  invoice order id  10460 customer id  folko ord...         invoice   \n",
       "2674  stock report for 2018-01 category   meat poult...          report   \n",
       "2675  purchase orders order id order date customer n...  purchase Order   \n",
       "\n",
       "      word_count                                       Cleaned Text  \n",
       "0            120  order id 10718 ship detail ship name königlich...  \n",
       "1             66  invoic order id 10707 custom id arout order da...  \n",
       "2             96  order id 10448 ship detail ship name rancho gr...  \n",
       "3             68  invoic order id 11068 custom id queen order da...  \n",
       "4            109  order id 10656 ship detail ship name great lak...  \n",
       "...          ...                                                ...  \n",
       "2671         111  order id 10326 ship detail ship name bólido co...  \n",
       "2672          39  purchas order order id order date custom name ...  \n",
       "2673          59  invoic order id 10460 custom id folko order da...  \n",
       "2674          46  stock report 201801 categori meat poultri id c...  \n",
       "2675          36  purchas order order id order date custom name ...  \n",
       "\n",
       "[2676 rows x 4 columns]"
      ]
     },
     "execution_count": 30,
     "metadata": {},
     "output_type": "execute_result"
    }
   ],
   "source": [
    "df"
   ]
  },
  {
   "cell_type": "markdown",
   "id": "168cb4f4-9e4e-4cf4-9c38-2dd0ee2231e1",
   "metadata": {},
   "source": [
    "LABEL ENCODING"
   ]
  },
  {
   "cell_type": "code",
   "execution_count": 32,
   "id": "aff34271-7959-47d8-a341-0c1a860cf035",
   "metadata": {},
   "outputs": [],
   "source": [
    "from sklearn.preprocessing import LabelEncoder\n",
    "label_encoder = LabelEncoder()\n",
    "df['label']= label_encoder.fit_transform(df['label'])\n",
    "\n",
    "\n",
    "from datasets import Dataset\n",
    "\n",
    "dataset = Dataset.from_pandas(df[[\"Cleaned Text\", \"label\"]])"
   ]
  },
  {
   "cell_type": "code",
   "execution_count": 33,
   "id": "dd02a516-9829-45a2-88af-b43577a98dac",
   "metadata": {},
   "outputs": [
    {
     "data": {
      "text/plain": [
       "Dataset({\n",
       "    features: ['Cleaned Text', 'label'],\n",
       "    num_rows: 2676\n",
       "})"
      ]
     },
     "execution_count": 33,
     "metadata": {},
     "output_type": "execute_result"
    }
   ],
   "source": [
    "dataset"
   ]
  },
  {
   "cell_type": "code",
   "execution_count": 43,
   "id": "a5755468-61d1-41a1-a8b5-8ce04893b18e",
   "metadata": {},
   "outputs": [],
   "source": [
    "split_dataset = dataset.train_test_split(test_size=0.2, seed = 42)\n",
    "train_text = split_dataset['train']\n",
    "test_text = split_dataset['test']"
   ]
  },
  {
   "cell_type": "markdown",
   "id": "b8275006-ec42-4c7e-8699-07d1a1560e08",
   "metadata": {},
   "source": [
    "Tokenization With Bert"
   ]
  },
  {
   "cell_type": "code",
   "execution_count": null,
   "id": "af9c91a0-2d17-4c00-a6eb-834e7058797b",
   "metadata": {},
   "outputs": [],
   "source": []
  }
 ],
 "metadata": {
  "kernelspec": {
   "display_name": "Python 3 (ipykernel)",
   "language": "python",
   "name": "python3"
  },
  "language_info": {
   "codemirror_mode": {
    "name": "ipython",
    "version": 3
   },
   "file_extension": ".py",
   "mimetype": "text/x-python",
   "name": "python",
   "nbconvert_exporter": "python",
   "pygments_lexer": "ipython3",
   "version": "3.12.3"
  }
 },
 "nbformat": 4,
 "nbformat_minor": 5
}
